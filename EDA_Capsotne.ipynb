{
 "cells": [
  {
   "cell_type": "code",
   "execution_count": null,
   "id": "91849b6d",
   "metadata": {},
   "outputs": [],
   "source": [
    "import pandas as pd\n",
    "import networkx\n",
    "from goatools import obo_parser"
   ]
  },
  {
   "cell_type": "code",
   "execution_count": null,
   "metadata": {},
   "outputs": [],
   "source": [
    "go = obo_parser.GODag('CAFA5/go-basic.obo')"
   ]
  },
  {
   "cell_type": "code",
   "execution_count": null,
   "metadata": {},
   "outputs": [],
   "source": [
    "go.keys()"
   ]
  },
  {
   "cell_type": "code",
   "execution_count": null,
   "metadata": {},
   "outputs": [],
   "source": [
    "go_id = 'GO:0000001'\n",
    "go_term = go[go_id]\n",
    "for i in go_term.get_all_parents():\n",
    "    print(i)\n",
    "    print(go[i].get_all_parents())"
   ]
  },
  {
   "cell_type": "code",
   "execution_count": null,
   "metadata": {},
   "outputs": [],
   "source": [
    "go_term.get_all_parent_edges()"
   ]
  },
  {
   "cell_type": "code",
   "execution_count": null,
   "metadata": {},
   "outputs": [],
   "source": [
    "def transitive_closure(go_term, go):\n",
    "    go_term_set = set()\n",
    "    find_parents(go_term, go, go_term_set)\n",
    "    find_children(go_term, go, go_term_set)\n",
    "    return go_term_set\n",
    "def find_parents(term1, go, go_term_set={}, ret=False):\n",
    "    for term2 in term1.parents:\n",
    "        go_term_set.update({term2})\n",
    "        \n",
    "        # Recurse on term to find all parents\n",
    "        find_parents(term2, go, go_term_set)          \n",
    "    if(ret):\n",
    "        return go_term_set\n",
    "\n",
    "def find_children(term1, go, go_term_set={}, ret=False):\n",
    "    for term2 in term1.children:\n",
    "        go_term_set.update({term2})\n",
    "        \n",
    "        # Recurse on term to find all children\n",
    "        find_children(term2, go, go_term_set)\n",
    "    if(ret):\n",
    "        return go_term_set\n",
    "go_term_set = transitive_closure(go_term, go)"
   ]
  }
 ],
 "metadata": {
  "kernelspec": {
   "display_name": "Python 3 (ipykernel)",
   "language": "python",
   "name": "python3"
  },
  "language_info": {
   "codemirror_mode": {
    "name": "ipython",
    "version": 3
   },
   "file_extension": ".py",
   "mimetype": "text/x-python",
   "name": "python",
   "nbconvert_exporter": "python",
   "pygments_lexer": "ipython3",
   "version": "3.9.5"
  }
 },
 "nbformat": 4,
 "nbformat_minor": 5
}
