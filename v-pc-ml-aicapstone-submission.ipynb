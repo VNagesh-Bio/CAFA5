{
 "cells": [
  {
   "cell_type": "code",
   "execution_count": 1,
   "id": "0a021878",
   "metadata": {
    "execution": {
     "iopub.execute_input": "2024-05-22T01:15:23.352784Z",
     "iopub.status.busy": "2024-05-22T01:15:23.352076Z",
     "iopub.status.idle": "2024-05-22T01:15:42.664340Z",
     "shell.execute_reply": "2024-05-22T01:15:42.662677Z"
    },
    "papermill": {
     "duration": 19.323766,
     "end_time": "2024-05-22T01:15:42.667295",
     "exception": false,
     "start_time": "2024-05-22T01:15:23.343529",
     "status": "completed"
    },
    "tags": []
   },
   "outputs": [],
   "source": [
    "# This Python 3 environment comes with many helpful analytics libraries installed\n",
    "# It is defined by the kaggle/python Docker image: https://github.com/kaggle/docker-python\n",
    "# For example, here's several helpful packages to load\n",
    "!pip install Bio --quiet\n",
    "import numpy as np # linear algebra\n",
    "import pandas as pd # data processing, CSV file I/O (e.g. pd.read_csv)\n",
    "from Bio import SeqIO\n",
    "import matplotlib.pyplot as plt\n",
    "import seaborn as sns"
   ]
  },
  {
   "cell_type": "code",
   "execution_count": 2,
   "id": "0909c05d",
   "metadata": {
    "_cell_guid": "b1076dfc-b9ad-4769-8c92-a6c4dae69d19",
    "_uuid": "8f2839f25d086af736a60e9eeb907d3b93b6e0e5",
    "execution": {
     "iopub.execute_input": "2024-05-22T01:15:42.682821Z",
     "iopub.status.busy": "2024-05-22T01:15:42.681346Z",
     "iopub.status.idle": "2024-05-22T01:15:42.703100Z",
     "shell.execute_reply": "2024-05-22T01:15:42.701902Z"
    },
    "papermill": {
     "duration": 0.031652,
     "end_time": "2024-05-22T01:15:42.705611",
     "exception": false,
     "start_time": "2024-05-22T01:15:42.673959",
     "status": "completed"
    },
    "tags": []
   },
   "outputs": [
    {
     "name": "stdout",
     "output_type": "stream",
     "text": [
      "/kaggle/input/cafa-5-protein-function-prediction/sample_submission.tsv\n",
      "/kaggle/input/cafa-5-protein-function-prediction/IA.txt\n",
      "/kaggle/input/cafa-5-protein-function-prediction/Test (Targets)/testsuperset.fasta\n",
      "/kaggle/input/cafa-5-protein-function-prediction/Test (Targets)/testsuperset-taxon-list.tsv\n",
      "/kaggle/input/cafa-5-protein-function-prediction/Train/train_terms.tsv\n",
      "/kaggle/input/cafa-5-protein-function-prediction/Train/train_sequences.fasta\n",
      "/kaggle/input/cafa-5-protein-function-prediction/Train/train_taxonomy.tsv\n",
      "/kaggle/input/cafa-5-protein-function-prediction/Train/go-basic.obo\n",
      "/kaggle/input/t5embeds/train_ids.npy\n",
      "/kaggle/input/t5embeds/test_embeds.npy\n",
      "/kaggle/input/t5embeds/train_embeds.npy\n",
      "/kaggle/input/t5embeds/test_ids.npy\n"
     ]
    }
   ],
   "source": [
    "# Input data files are available in the read-only \"../input/\" directory\n",
    "# For example, running this (by clicking run or pressing Shift+Enter) will list all files under the input directory\n",
    "\n",
    "import os\n",
    "for dirname, _, filenames in os.walk('/kaggle/input'):\n",
    "    for filename in filenames:\n",
    "        print(os.path.join(dirname, filename))\n",
    "\n",
    "# You can write up to 20GB to the current directory (/kaggle/working/) that gets preserved as output when you create a version using \"Save & Run All\" \n",
    "# You can also write temporary files to /kaggle/temp/, but they won't be saved outside of the current session"
   ]
  },
  {
   "cell_type": "code",
   "execution_count": 3,
   "id": "1e96eeb7",
   "metadata": {
    "execution": {
     "iopub.execute_input": "2024-05-22T01:15:42.720836Z",
     "iopub.status.busy": "2024-05-22T01:15:42.719916Z",
     "iopub.status.idle": "2024-05-22T01:15:48.725888Z",
     "shell.execute_reply": "2024-05-22T01:15:48.724694Z"
    },
    "papermill": {
     "duration": 6.016242,
     "end_time": "2024-05-22T01:15:48.728384",
     "exception": false,
     "start_time": "2024-05-22T01:15:42.712142",
     "status": "completed"
    },
    "tags": []
   },
   "outputs": [
    {
     "data": {
      "text/html": [
       "<div>\n",
       "<style scoped>\n",
       "    .dataframe tbody tr th:only-of-type {\n",
       "        vertical-align: middle;\n",
       "    }\n",
       "\n",
       "    .dataframe tbody tr th {\n",
       "        vertical-align: top;\n",
       "    }\n",
       "\n",
       "    .dataframe thead th {\n",
       "        text-align: right;\n",
       "    }\n",
       "</style>\n",
       "<table border=\"1\" class=\"dataframe\">\n",
       "  <thead>\n",
       "    <tr style=\"text-align: right;\">\n",
       "      <th></th>\n",
       "      <th>EntryID</th>\n",
       "      <th>term</th>\n",
       "      <th>aspect</th>\n",
       "    </tr>\n",
       "  </thead>\n",
       "  <tbody>\n",
       "    <tr>\n",
       "      <th>0</th>\n",
       "      <td>A0A009IHW8</td>\n",
       "      <td>GO:0008152</td>\n",
       "      <td>BPO</td>\n",
       "    </tr>\n",
       "    <tr>\n",
       "      <th>1</th>\n",
       "      <td>A0A009IHW8</td>\n",
       "      <td>GO:0034655</td>\n",
       "      <td>BPO</td>\n",
       "    </tr>\n",
       "    <tr>\n",
       "      <th>2</th>\n",
       "      <td>A0A009IHW8</td>\n",
       "      <td>GO:0072523</td>\n",
       "      <td>BPO</td>\n",
       "    </tr>\n",
       "    <tr>\n",
       "      <th>3</th>\n",
       "      <td>A0A009IHW8</td>\n",
       "      <td>GO:0044270</td>\n",
       "      <td>BPO</td>\n",
       "    </tr>\n",
       "    <tr>\n",
       "      <th>4</th>\n",
       "      <td>A0A009IHW8</td>\n",
       "      <td>GO:0006753</td>\n",
       "      <td>BPO</td>\n",
       "    </tr>\n",
       "  </tbody>\n",
       "</table>\n",
       "</div>"
      ],
      "text/plain": [
       "      EntryID        term aspect\n",
       "0  A0A009IHW8  GO:0008152    BPO\n",
       "1  A0A009IHW8  GO:0034655    BPO\n",
       "2  A0A009IHW8  GO:0072523    BPO\n",
       "3  A0A009IHW8  GO:0044270    BPO\n",
       "4  A0A009IHW8  GO:0006753    BPO"
      ]
     },
     "metadata": {},
     "output_type": "display_data"
    },
    {
     "data": {
      "text/html": [
       "<div>\n",
       "<style scoped>\n",
       "    .dataframe tbody tr th:only-of-type {\n",
       "        vertical-align: middle;\n",
       "    }\n",
       "\n",
       "    .dataframe tbody tr th {\n",
       "        vertical-align: top;\n",
       "    }\n",
       "\n",
       "    .dataframe thead th {\n",
       "        text-align: right;\n",
       "    }\n",
       "</style>\n",
       "<table border=\"1\" class=\"dataframe\">\n",
       "  <thead>\n",
       "    <tr style=\"text-align: right;\">\n",
       "      <th></th>\n",
       "      <th>id</th>\n",
       "      <th>seq_length</th>\n",
       "      <th>sequence</th>\n",
       "      <th>seq_name</th>\n",
       "    </tr>\n",
       "  </thead>\n",
       "  <tbody>\n",
       "    <tr>\n",
       "      <th>0</th>\n",
       "      <td>P20536</td>\n",
       "      <td>218</td>\n",
       "      <td>MNSVTVSHAPYTITYHDDWEPVMSQLVEFYNEVASWLLRDETSPIP...</td>\n",
       "      <td>P20536</td>\n",
       "    </tr>\n",
       "    <tr>\n",
       "      <th>1</th>\n",
       "      <td>O73864</td>\n",
       "      <td>354</td>\n",
       "      <td>MTEYRNFLLLFITSLSVIYPCTGISWLGLTINGSSVGWNQTHHCKL...</td>\n",
       "      <td>O73864</td>\n",
       "    </tr>\n",
       "    <tr>\n",
       "      <th>2</th>\n",
       "      <td>O95231</td>\n",
       "      <td>258</td>\n",
       "      <td>MRLSSSPPRGPQQLSSFGSVDWLSQSSCSGPTHTPRPADFSLGSLP...</td>\n",
       "      <td>O95231</td>\n",
       "    </tr>\n",
       "    <tr>\n",
       "      <th>3</th>\n",
       "      <td>A0A0B4J1F4</td>\n",
       "      <td>415</td>\n",
       "      <td>MGGEAGADGPRGRVKSLGLVFEDESKGCYSSGETVAGHVLLEAAEP...</td>\n",
       "      <td>A0A0B4J1F4</td>\n",
       "    </tr>\n",
       "    <tr>\n",
       "      <th>4</th>\n",
       "      <td>P54366</td>\n",
       "      <td>415</td>\n",
       "      <td>MVETNSPPAGYTLKRSPSDLGEQQQPPRQISRSPGNTAAYHLTTAM...</td>\n",
       "      <td>P54366</td>\n",
       "    </tr>\n",
       "  </tbody>\n",
       "</table>\n",
       "</div>"
      ],
      "text/plain": [
       "           id  seq_length                                           sequence  \\\n",
       "0      P20536         218  MNSVTVSHAPYTITYHDDWEPVMSQLVEFYNEVASWLLRDETSPIP...   \n",
       "1      O73864         354  MTEYRNFLLLFITSLSVIYPCTGISWLGLTINGSSVGWNQTHHCKL...   \n",
       "2      O95231         258  MRLSSSPPRGPQQLSSFGSVDWLSQSSCSGPTHTPRPADFSLGSLP...   \n",
       "3  A0A0B4J1F4         415  MGGEAGADGPRGRVKSLGLVFEDESKGCYSSGETVAGHVLLEAAEP...   \n",
       "4      P54366         415  MVETNSPPAGYTLKRSPSDLGEQQQPPRQISRSPGNTAAYHLTTAM...   \n",
       "\n",
       "     seq_name  \n",
       "0      P20536  \n",
       "1      O73864  \n",
       "2      O95231  \n",
       "3  A0A0B4J1F4  \n",
       "4      P54366  "
      ]
     },
     "metadata": {},
     "output_type": "display_data"
    },
    {
     "data": {
      "text/html": [
       "<div>\n",
       "<style scoped>\n",
       "    .dataframe tbody tr th:only-of-type {\n",
       "        vertical-align: middle;\n",
       "    }\n",
       "\n",
       "    .dataframe tbody tr th {\n",
       "        vertical-align: top;\n",
       "    }\n",
       "\n",
       "    .dataframe thead th {\n",
       "        text-align: right;\n",
       "    }\n",
       "</style>\n",
       "<table border=\"1\" class=\"dataframe\">\n",
       "  <thead>\n",
       "    <tr style=\"text-align: right;\">\n",
       "      <th></th>\n",
       "      <th>EntryID</th>\n",
       "      <th>taxonomyID</th>\n",
       "    </tr>\n",
       "  </thead>\n",
       "  <tbody>\n",
       "    <tr>\n",
       "      <th>0</th>\n",
       "      <td>Q8IXT2</td>\n",
       "      <td>9606</td>\n",
       "    </tr>\n",
       "    <tr>\n",
       "      <th>1</th>\n",
       "      <td>Q04418</td>\n",
       "      <td>559292</td>\n",
       "    </tr>\n",
       "    <tr>\n",
       "      <th>2</th>\n",
       "      <td>A8DYA3</td>\n",
       "      <td>7227</td>\n",
       "    </tr>\n",
       "    <tr>\n",
       "      <th>3</th>\n",
       "      <td>Q9UUI3</td>\n",
       "      <td>284812</td>\n",
       "    </tr>\n",
       "    <tr>\n",
       "      <th>4</th>\n",
       "      <td>Q57ZS4</td>\n",
       "      <td>185431</td>\n",
       "    </tr>\n",
       "  </tbody>\n",
       "</table>\n",
       "</div>"
      ],
      "text/plain": [
       "  EntryID  taxonomyID\n",
       "0  Q8IXT2        9606\n",
       "1  Q04418      559292\n",
       "2  A8DYA3        7227\n",
       "3  Q9UUI3      284812\n",
       "4  Q57ZS4      185431"
      ]
     },
     "execution_count": 3,
     "metadata": {},
     "output_type": "execute_result"
    }
   ],
   "source": [
    "# Loading training dataset\n",
    "train_terms = pd.read_csv('/kaggle/input/cafa-5-protein-function-prediction/Train/train_terms.tsv', sep='\\t')\n",
    "display(train_terms.head())\n",
    "\n",
    "# Load training sequences\n",
    "with open('/kaggle/input/cafa-5-protein-function-prediction/Train/train_sequences.fasta') as fasta_file:  # Will close handle cleanly\n",
    "    identifiers = []\n",
    "    lengths = []\n",
    "    sequence = []\n",
    "    seq_name = []\n",
    "    for seq_record in SeqIO.parse(fasta_file, 'fasta'):  # (generator)\n",
    "        identifiers.append(seq_record.id)\n",
    "        lengths.append(len(seq_record.seq))\n",
    "        sequence.append(str(seq_record.seq))\n",
    "        seq_name.append(seq_record.name)\n",
    "        \n",
    "train_seq_df = pd.DataFrame({'id': identifiers,\n",
    "             'seq_length': lengths,\n",
    "             'sequence': sequence,\n",
    "             'seq_name': seq_name})\n",
    "display(train_seq_df.head())\n",
    "\n",
    "# Load training taxonomy terms\n",
    "train_taxonomy = pd.read_csv('/kaggle/input/cafa-5-protein-function-prediction/Train/train_taxonomy.tsv', sep='\\t')\n",
    "train_taxonomy.head()"
   ]
  },
  {
   "cell_type": "markdown",
   "id": "5a2346a3",
   "metadata": {
    "papermill": {
     "duration": 0.006635,
     "end_time": "2024-05-22T01:15:48.742151",
     "exception": false,
     "start_time": "2024-05-22T01:15:48.735516",
     "status": "completed"
    },
    "tags": []
   },
   "source": [
    "We will now load the pre calculated protein embeddings created by Sergei Fironov using the Rost Lab's T5 protein language model.\n",
    "\n",
    "If the tfembeds is not yet on the input data of the notebook, you can add it to your enviromentby clicking on Add Data and search for t5embeds (make sure that it's the correct one ) and then click on the + beside it.\n",
    "\n",
    "The protein embeddings to be used for training are recorded in train_embeds.npy and the corresponding protein ids are available in train_ids.npy."
   ]
  },
  {
   "cell_type": "code",
   "execution_count": 4,
   "id": "9cd777e5",
   "metadata": {
    "execution": {
     "iopub.execute_input": "2024-05-22T01:15:48.757426Z",
     "iopub.status.busy": "2024-05-22T01:15:48.757012Z",
     "iopub.status.idle": "2024-05-22T01:15:59.691677Z",
     "shell.execute_reply": "2024-05-22T01:15:59.690565Z"
    },
    "papermill": {
     "duration": 10.94539,
     "end_time": "2024-05-22T01:15:59.694217",
     "exception": false,
     "start_time": "2024-05-22T01:15:48.748827",
     "status": "completed"
    },
    "tags": []
   },
   "outputs": [
    {
     "data": {
      "text/plain": [
       "(142246,)"
      ]
     },
     "metadata": {},
     "output_type": "display_data"
    },
    {
     "data": {
      "text/plain": [
       "(142246, 1024)"
      ]
     },
     "metadata": {},
     "output_type": "display_data"
    },
    {
     "name": "stdout",
     "output_type": "stream",
     "text": [
      "(142246, 1024)\n"
     ]
    },
    {
     "data": {
      "text/html": [
       "<div>\n",
       "<style scoped>\n",
       "    .dataframe tbody tr th:only-of-type {\n",
       "        vertical-align: middle;\n",
       "    }\n",
       "\n",
       "    .dataframe tbody tr th {\n",
       "        vertical-align: top;\n",
       "    }\n",
       "\n",
       "    .dataframe thead th {\n",
       "        text-align: right;\n",
       "    }\n",
       "</style>\n",
       "<table border=\"1\" class=\"dataframe\">\n",
       "  <thead>\n",
       "    <tr style=\"text-align: right;\">\n",
       "      <th></th>\n",
       "      <th>protein_id</th>\n",
       "    </tr>\n",
       "  </thead>\n",
       "  <tbody>\n",
       "    <tr>\n",
       "      <th>0</th>\n",
       "      <td>P20536</td>\n",
       "    </tr>\n",
       "    <tr>\n",
       "      <th>1</th>\n",
       "      <td>O73864</td>\n",
       "    </tr>\n",
       "    <tr>\n",
       "      <th>2</th>\n",
       "      <td>O95231</td>\n",
       "    </tr>\n",
       "    <tr>\n",
       "      <th>3</th>\n",
       "      <td>A0A0B4J1F4</td>\n",
       "    </tr>\n",
       "    <tr>\n",
       "      <th>4</th>\n",
       "      <td>P54366</td>\n",
       "    </tr>\n",
       "  </tbody>\n",
       "</table>\n",
       "</div>"
      ],
      "text/plain": [
       "   protein_id\n",
       "0      P20536\n",
       "1      O73864\n",
       "2      O95231\n",
       "3  A0A0B4J1F4\n",
       "4      P54366"
      ]
     },
     "metadata": {},
     "output_type": "display_data"
    },
    {
     "data": {
      "text/html": [
       "<div>\n",
       "<style scoped>\n",
       "    .dataframe tbody tr th:only-of-type {\n",
       "        vertical-align: middle;\n",
       "    }\n",
       "\n",
       "    .dataframe tbody tr th {\n",
       "        vertical-align: top;\n",
       "    }\n",
       "\n",
       "    .dataframe thead th {\n",
       "        text-align: right;\n",
       "    }\n",
       "</style>\n",
       "<table border=\"1\" class=\"dataframe\">\n",
       "  <thead>\n",
       "    <tr style=\"text-align: right;\">\n",
       "      <th></th>\n",
       "      <th>Column_1</th>\n",
       "      <th>Column_2</th>\n",
       "      <th>Column_3</th>\n",
       "      <th>Column_4</th>\n",
       "      <th>Column_5</th>\n",
       "      <th>Column_6</th>\n",
       "      <th>Column_7</th>\n",
       "      <th>Column_8</th>\n",
       "      <th>Column_9</th>\n",
       "      <th>Column_10</th>\n",
       "      <th>...</th>\n",
       "      <th>Column_1015</th>\n",
       "      <th>Column_1016</th>\n",
       "      <th>Column_1017</th>\n",
       "      <th>Column_1018</th>\n",
       "      <th>Column_1019</th>\n",
       "      <th>Column_1020</th>\n",
       "      <th>Column_1021</th>\n",
       "      <th>Column_1022</th>\n",
       "      <th>Column_1023</th>\n",
       "      <th>Column_1024</th>\n",
       "    </tr>\n",
       "  </thead>\n",
       "  <tbody>\n",
       "    <tr>\n",
       "      <th>0</th>\n",
       "      <td>0.049488</td>\n",
       "      <td>-0.032935</td>\n",
       "      <td>0.032473</td>\n",
       "      <td>-0.033723</td>\n",
       "      <td>-0.059505</td>\n",
       "      <td>0.075936</td>\n",
       "      <td>-0.045860</td>\n",
       "      <td>-0.104476</td>\n",
       "      <td>-0.072112</td>\n",
       "      <td>0.038806</td>\n",
       "      <td>...</td>\n",
       "      <td>-0.046516</td>\n",
       "      <td>-0.028773</td>\n",
       "      <td>-0.021878</td>\n",
       "      <td>-0.097883</td>\n",
       "      <td>0.056475</td>\n",
       "      <td>0.080950</td>\n",
       "      <td>-0.020938</td>\n",
       "      <td>-0.043532</td>\n",
       "      <td>0.096463</td>\n",
       "      <td>0.073070</td>\n",
       "    </tr>\n",
       "    <tr>\n",
       "      <th>1</th>\n",
       "      <td>-0.044616</td>\n",
       "      <td>0.064925</td>\n",
       "      <td>-0.080263</td>\n",
       "      <td>-0.075338</td>\n",
       "      <td>-0.004731</td>\n",
       "      <td>0.025408</td>\n",
       "      <td>-0.024685</td>\n",
       "      <td>-0.016568</td>\n",
       "      <td>-0.038980</td>\n",
       "      <td>-0.033870</td>\n",
       "      <td>...</td>\n",
       "      <td>-0.040173</td>\n",
       "      <td>0.003925</td>\n",
       "      <td>0.006130</td>\n",
       "      <td>0.007362</td>\n",
       "      <td>-0.066848</td>\n",
       "      <td>0.106882</td>\n",
       "      <td>-0.030134</td>\n",
       "      <td>0.026724</td>\n",
       "      <td>0.027879</td>\n",
       "      <td>-0.048430</td>\n",
       "    </tr>\n",
       "    <tr>\n",
       "      <th>2</th>\n",
       "      <td>-0.020128</td>\n",
       "      <td>-0.049779</td>\n",
       "      <td>0.007894</td>\n",
       "      <td>-0.000829</td>\n",
       "      <td>-0.047737</td>\n",
       "      <td>0.086453</td>\n",
       "      <td>-0.038107</td>\n",
       "      <td>-0.036379</td>\n",
       "      <td>0.029611</td>\n",
       "      <td>0.045029</td>\n",
       "      <td>...</td>\n",
       "      <td>0.029388</td>\n",
       "      <td>0.008456</td>\n",
       "      <td>0.000697</td>\n",
       "      <td>0.013502</td>\n",
       "      <td>-0.005968</td>\n",
       "      <td>-0.011571</td>\n",
       "      <td>0.005704</td>\n",
       "      <td>-0.036103</td>\n",
       "      <td>0.007693</td>\n",
       "      <td>0.106234</td>\n",
       "    </tr>\n",
       "    <tr>\n",
       "      <th>3</th>\n",
       "      <td>-0.007515</td>\n",
       "      <td>0.060628</td>\n",
       "      <td>0.004045</td>\n",
       "      <td>0.027056</td>\n",
       "      <td>-0.021542</td>\n",
       "      <td>0.010380</td>\n",
       "      <td>-0.025064</td>\n",
       "      <td>-0.055834</td>\n",
       "      <td>0.068238</td>\n",
       "      <td>0.027764</td>\n",
       "      <td>...</td>\n",
       "      <td>0.020792</td>\n",
       "      <td>0.023307</td>\n",
       "      <td>0.009009</td>\n",
       "      <td>0.018211</td>\n",
       "      <td>0.020820</td>\n",
       "      <td>-0.031738</td>\n",
       "      <td>0.013279</td>\n",
       "      <td>-0.018357</td>\n",
       "      <td>0.008087</td>\n",
       "      <td>0.010917</td>\n",
       "    </tr>\n",
       "    <tr>\n",
       "      <th>4</th>\n",
       "      <td>0.013468</td>\n",
       "      <td>0.041516</td>\n",
       "      <td>0.018435</td>\n",
       "      <td>-0.035595</td>\n",
       "      <td>0.008770</td>\n",
       "      <td>0.018699</td>\n",
       "      <td>-0.015452</td>\n",
       "      <td>-0.038092</td>\n",
       "      <td>-0.038326</td>\n",
       "      <td>-0.012299</td>\n",
       "      <td>...</td>\n",
       "      <td>-0.044742</td>\n",
       "      <td>-0.025432</td>\n",
       "      <td>-0.060886</td>\n",
       "      <td>-0.026915</td>\n",
       "      <td>0.026342</td>\n",
       "      <td>0.017237</td>\n",
       "      <td>0.014731</td>\n",
       "      <td>-0.016861</td>\n",
       "      <td>-0.016272</td>\n",
       "      <td>0.037054</td>\n",
       "    </tr>\n",
       "  </tbody>\n",
       "</table>\n",
       "<p>5 rows × 1024 columns</p>\n",
       "</div>"
      ],
      "text/plain": [
       "   Column_1  Column_2  Column_3  Column_4  Column_5  Column_6  Column_7  \\\n",
       "0  0.049488 -0.032935  0.032473 -0.033723 -0.059505  0.075936 -0.045860   \n",
       "1 -0.044616  0.064925 -0.080263 -0.075338 -0.004731  0.025408 -0.024685   \n",
       "2 -0.020128 -0.049779  0.007894 -0.000829 -0.047737  0.086453 -0.038107   \n",
       "3 -0.007515  0.060628  0.004045  0.027056 -0.021542  0.010380 -0.025064   \n",
       "4  0.013468  0.041516  0.018435 -0.035595  0.008770  0.018699 -0.015452   \n",
       "\n",
       "   Column_8  Column_9  Column_10  ...  Column_1015  Column_1016  Column_1017  \\\n",
       "0 -0.104476 -0.072112   0.038806  ...    -0.046516    -0.028773    -0.021878   \n",
       "1 -0.016568 -0.038980  -0.033870  ...    -0.040173     0.003925     0.006130   \n",
       "2 -0.036379  0.029611   0.045029  ...     0.029388     0.008456     0.000697   \n",
       "3 -0.055834  0.068238   0.027764  ...     0.020792     0.023307     0.009009   \n",
       "4 -0.038092 -0.038326  -0.012299  ...    -0.044742    -0.025432    -0.060886   \n",
       "\n",
       "   Column_1018  Column_1019  Column_1020  Column_1021  Column_1022  \\\n",
       "0    -0.097883     0.056475     0.080950    -0.020938    -0.043532   \n",
       "1     0.007362    -0.066848     0.106882    -0.030134     0.026724   \n",
       "2     0.013502    -0.005968    -0.011571     0.005704    -0.036103   \n",
       "3     0.018211     0.020820    -0.031738     0.013279    -0.018357   \n",
       "4    -0.026915     0.026342     0.017237     0.014731    -0.016861   \n",
       "\n",
       "   Column_1023  Column_1024  \n",
       "0     0.096463     0.073070  \n",
       "1     0.027879    -0.048430  \n",
       "2     0.007693     0.106234  \n",
       "3     0.008087     0.010917  \n",
       "4    -0.016272     0.037054  \n",
       "\n",
       "[5 rows x 1024 columns]"
      ]
     },
     "metadata": {},
     "output_type": "display_data"
    }
   ],
   "source": [
    "train_protein_ids = np.load('/kaggle/input/t5embeds/train_ids.npy')\n",
    "display(train_protein_ids.shape)\n",
    "train_protein_embeddings = np.load('/kaggle/input/t5embeds/train_embeds.npy')\n",
    "display(train_protein_embeddings.shape)\n",
    "\n",
    "column_num = train_protein_embeddings.shape[1]\n",
    "train_embedding_df = pd.DataFrame(train_protein_embeddings, columns = [\"Column_\" + str(i) for i in range(1, column_num+1)])\n",
    "print(train_embedding_df.shape)\n",
    "display(pd.DataFrame(train_protein_ids, columns=['protein_id']).head())\n",
    "display(train_embedding_df.head())"
   ]
  },
  {
   "cell_type": "markdown",
   "id": "67ab7e28",
   "metadata": {
    "papermill": {
     "duration": 0.007517,
     "end_time": "2024-05-22T01:15:59.709511",
     "exception": false,
     "start_time": "2024-05-22T01:15:59.701994",
     "status": "completed"
    },
    "tags": []
   },
   "source": [
    "In order to simplify my model, I chose te most frequence 1500 GO term IDs as labels."
   ]
  },
  {
   "cell_type": "code",
   "execution_count": 5,
   "id": "355697c1",
   "metadata": {
    "execution": {
     "iopub.execute_input": "2024-05-22T01:15:59.726589Z",
     "iopub.status.busy": "2024-05-22T01:15:59.726209Z",
     "iopub.status.idle": "2024-05-22T01:15:59.736326Z",
     "shell.execute_reply": "2024-05-22T01:15:59.735209Z"
    },
    "papermill": {
     "duration": 0.021474,
     "end_time": "2024-05-22T01:15:59.738591",
     "exception": false,
     "start_time": "2024-05-22T01:15:59.717117",
     "status": "completed"
    },
    "tags": []
   },
   "outputs": [
    {
     "data": {
      "text/html": [
       "<div>\n",
       "<style scoped>\n",
       "    .dataframe tbody tr th:only-of-type {\n",
       "        vertical-align: middle;\n",
       "    }\n",
       "\n",
       "    .dataframe tbody tr th {\n",
       "        vertical-align: top;\n",
       "    }\n",
       "\n",
       "    .dataframe thead th {\n",
       "        text-align: right;\n",
       "    }\n",
       "</style>\n",
       "<table border=\"1\" class=\"dataframe\">\n",
       "  <thead>\n",
       "    <tr style=\"text-align: right;\">\n",
       "      <th></th>\n",
       "      <th>EntryID</th>\n",
       "      <th>term</th>\n",
       "      <th>aspect</th>\n",
       "    </tr>\n",
       "  </thead>\n",
       "  <tbody>\n",
       "    <tr>\n",
       "      <th>0</th>\n",
       "      <td>A0A009IHW8</td>\n",
       "      <td>GO:0008152</td>\n",
       "      <td>BPO</td>\n",
       "    </tr>\n",
       "    <tr>\n",
       "      <th>1</th>\n",
       "      <td>A0A009IHW8</td>\n",
       "      <td>GO:0034655</td>\n",
       "      <td>BPO</td>\n",
       "    </tr>\n",
       "    <tr>\n",
       "      <th>2</th>\n",
       "      <td>A0A009IHW8</td>\n",
       "      <td>GO:0072523</td>\n",
       "      <td>BPO</td>\n",
       "    </tr>\n",
       "    <tr>\n",
       "      <th>3</th>\n",
       "      <td>A0A009IHW8</td>\n",
       "      <td>GO:0044270</td>\n",
       "      <td>BPO</td>\n",
       "    </tr>\n",
       "    <tr>\n",
       "      <th>4</th>\n",
       "      <td>A0A009IHW8</td>\n",
       "      <td>GO:0006753</td>\n",
       "      <td>BPO</td>\n",
       "    </tr>\n",
       "  </tbody>\n",
       "</table>\n",
       "</div>"
      ],
      "text/plain": [
       "      EntryID        term aspect\n",
       "0  A0A009IHW8  GO:0008152    BPO\n",
       "1  A0A009IHW8  GO:0034655    BPO\n",
       "2  A0A009IHW8  GO:0072523    BPO\n",
       "3  A0A009IHW8  GO:0044270    BPO\n",
       "4  A0A009IHW8  GO:0006753    BPO"
      ]
     },
     "execution_count": 5,
     "metadata": {},
     "output_type": "execute_result"
    }
   ],
   "source": [
    "train_terms.head()"
   ]
  },
  {
   "cell_type": "code",
   "execution_count": 6,
   "id": "f06e6c11",
   "metadata": {
    "execution": {
     "iopub.execute_input": "2024-05-22T01:15:59.757800Z",
     "iopub.status.busy": "2024-05-22T01:15:59.757378Z",
     "iopub.status.idle": "2024-05-22T01:16:01.454598Z",
     "shell.execute_reply": "2024-05-22T01:16:01.453220Z"
    },
    "papermill": {
     "duration": 1.710658,
     "end_time": "2024-05-22T01:16:01.457244",
     "exception": false,
     "start_time": "2024-05-22T01:15:59.746586",
     "status": "completed"
    },
    "tags": []
   },
   "outputs": [
    {
     "data": {
      "image/png": "[encoded data removed]",
      "text/plain": [
       "<Figure size 1200x600 with 1 Axes>"
      ]
     },
     "metadata": {},
     "output_type": "display_data"
    }
   ],
   "source": [
    "# Select first 100 values for plotting\n",
    "plot_df = train_terms['term'].value_counts().iloc[:100]\n",
    "figure, axis = plt.subplots(1, 1, figsize=(12, 6))\n",
    "\n",
    "bp = sns.barplot(ax=axis, x=np.array(plot_df.index), y=plot_df.values)\n",
    "bp.set_xticklabels(bp.get_xticklabels(), rotation=90, size = 6)\n",
    "axis.set_title('Top 100 frequent GO term IDs')\n",
    "bp.set_xlabel(\"GO term IDs\", fontsize = 12)\n",
    "bp.set_ylabel(\"Count\", fontsize = 12)\n",
    "plt.show()"
   ]
  },
  {
   "cell_type": "code",
   "execution_count": 7,
   "id": "06852c5d",
   "metadata": {
    "execution": {
     "iopub.execute_input": "2024-05-22T01:16:01.475509Z",
     "iopub.status.busy": "2024-05-22T01:16:01.475114Z",
     "iopub.status.idle": "2024-05-22T01:16:02.692854Z",
     "shell.execute_reply": "2024-05-22T01:16:02.691551Z"
    },
    "papermill": {
     "duration": 1.230447,
     "end_time": "2024-05-22T01:16:02.696032",
     "exception": false,
     "start_time": "2024-05-22T01:16:01.465585",
     "status": "completed"
    },
    "tags": []
   },
   "outputs": [],
   "source": [
    "# Set the limit for label\n",
    "num_of_labels = 1500\n",
    "\n",
    "# Take value counts in descending order and fetch first 1500 `GO term ID` as labels\n",
    "labels = train_terms['term'].value_counts().index[:num_of_labels].tolist()\n",
    "# Fetch the train_terms data for the relevant labels only\n",
    "train_terms_updated = train_terms.loc[train_terms['term'].isin(labels)]"
   ]
  },
  {
   "cell_type": "code",
   "execution_count": 8,
   "id": "a2a56bb6",
   "metadata": {
    "execution": {
     "iopub.execute_input": "2024-05-22T01:16:02.715414Z",
     "iopub.status.busy": "2024-05-22T01:16:02.714715Z",
     "iopub.status.idle": "2024-05-22T01:16:03.237045Z",
     "shell.execute_reply": "2024-05-22T01:16:03.235894Z"
    },
    "papermill": {
     "duration": 0.535928,
     "end_time": "2024-05-22T01:16:03.240620",
     "exception": false,
     "start_time": "2024-05-22T01:16:02.704692",
     "status": "completed"
    },
    "tags": []
   },
   "outputs": [
    {
     "data": {
      "image/png": "[encoded data removed]",
      "text/plain": [
       "<Figure size 640x480 with 1 Axes>"
      ]
     },
     "metadata": {},
     "output_type": "display_data"
    }
   ],
   "source": [
    "pie_df = train_terms['aspect'].value_counts()\n",
    "palette_color = sns.color_palette('bright')\n",
    "plt.pie(pie_df.values, labels=np.array(pie_df.index), colors=palette_color, autopct='%.0f%%')\n",
    "plt.show()"
   ]
  },
  {
   "cell_type": "code",
   "execution_count": 9,
   "id": "fbdc363c",
   "metadata": {
    "execution": {
     "iopub.execute_input": "2024-05-22T01:16:03.272006Z",
     "iopub.status.busy": "2024-05-22T01:16:03.271403Z",
     "iopub.status.idle": "2024-05-22T01:16:03.748435Z",
     "shell.execute_reply": "2024-05-22T01:16:03.747348Z"
    },
    "papermill": {
     "duration": 0.496164,
     "end_time": "2024-05-22T01:16:03.751400",
     "exception": false,
     "start_time": "2024-05-22T01:16:03.255236",
     "status": "completed"
    },
    "tags": []
   },
   "outputs": [
    {
     "data": {
      "image/png": "[encoded data removed]",
      "text/plain": [
       "<Figure size 640x480 with 1 Axes>"
      ]
     },
     "metadata": {},
     "output_type": "display_data"
    }
   ],
   "source": [
    "pie_df = train_terms_updated['aspect'].value_counts()\n",
    "palette_color = sns.color_palette('bright')\n",
    "plt.pie(pie_df.values, labels=np.array(pie_df.index), colors=palette_color, autopct='%.0f%%')\n",
    "plt.show()"
   ]
  },
  {
   "cell_type": "markdown",
   "id": "80b43121",
   "metadata": {
    "papermill": {
     "duration": 0.015555,
     "end_time": "2024-05-22T01:16:03.781700",
     "exception": false,
     "start_time": "2024-05-22T01:16:03.766145",
     "status": "completed"
    },
    "tags": []
   },
   "source": [
    "The subsampling maintains the same distribution as in the original dataset.\n",
    "Since this is a multi label classification problem, in the labels array we will denote the presence or absence of each Go Term Id for a protein id using a 1 or 0.\n",
    "First, we will create a numpy array `train_labels` of required size for the labels. To update the `train_labels` array with the appropriate values, we will loop through the label list.\n",
    "\n",
    "Since this is a multi label classification problem, in the labels array we will denote the presence or absence of each Go Term Id for a protein id using a 1 or 0. First, we will create a numpy array train_labels of required size for the labels. To update the train_labels array with the appropriate values, we will loop through the label list.\n",
    "\n"
   ]
  },
  {
   "cell_type": "code",
   "execution_count": 10,
   "id": "5c932c32",
   "metadata": {
    "execution": {
     "iopub.execute_input": "2024-05-22T01:16:03.814128Z",
     "iopub.status.busy": "2024-05-22T01:16:03.813614Z",
     "iopub.status.idle": "2024-05-22T01:16:03.821038Z",
     "shell.execute_reply": "2024-05-22T01:16:03.819933Z"
    },
    "papermill": {
     "duration": 0.027623,
     "end_time": "2024-05-22T01:16:03.824542",
     "exception": false,
     "start_time": "2024-05-22T01:16:03.796919",
     "status": "completed"
    },
    "tags": []
   },
   "outputs": [
    {
     "data": {
      "text/plain": [
       "array(['P20536', 'O73864', 'O95231', 'A0A0B4J1F4', 'P54366', 'P33681',\n",
       "       'P77596', 'Q16787', 'Q59VP0', 'P13508'], dtype='<U10')"
      ]
     },
     "execution_count": 10,
     "metadata": {},
     "output_type": "execute_result"
    }
   ],
   "source": [
    "train_protein_ids[:10]"
   ]
  },
  {
   "cell_type": "code",
   "execution_count": 11,
   "id": "2e112035",
   "metadata": {
    "execution": {
     "iopub.execute_input": "2024-05-22T01:16:03.845057Z",
     "iopub.status.busy": "2024-05-22T01:16:03.844675Z",
     "iopub.status.idle": "2024-05-22T01:25:12.306912Z",
     "shell.execute_reply": "2024-05-22T01:25:12.305540Z"
    },
    "papermill": {
     "duration": 548.484512,
     "end_time": "2024-05-22T01:25:12.319042",
     "exception": false,
     "start_time": "2024-05-22T01:16:03.834530",
     "status": "completed"
    },
    "tags": []
   },
   "outputs": [
    {
     "name": "stdout",
     "output_type": "stream",
     "text": [
      "(142246, 1500)\n"
     ]
    }
   ],
   "source": [
    "# Create an empty dataframe of required size for storing the labels,\n",
    "# i.e, train_size x num_of_labels (142246 x 1500)\n",
    "train_size = train_protein_ids.shape[0] # len(X), there are 142246 protein ids (that contain embeddings) for which 1500 Go terms need to be stored.\n",
    "train_labels = np.zeros((train_size ,num_of_labels))\n",
    "\n",
    "# Convert from numpy to pandas series for better handling\n",
    "series_train_protein_ids = pd.Series(train_protein_ids)\n",
    "\n",
    "# Loop through each label\n",
    "for i in range(num_of_labels):\n",
    "    # For each label, fetch the corresponding train_terms data\n",
    "    n_train_terms = train_terms_updated[train_terms_updated['term'] ==  labels[i]]\n",
    "    \n",
    "    # Fetch all the unique EntryId aka proteins related to the current label(GO term ID)\n",
    "    label_related_proteins = n_train_terms['EntryID'].unique()\n",
    "    \n",
    "    # In the series_train_protein_ids pandas series, if a protein is related\n",
    "    # to the current label, then mark it as 1, else 0.\n",
    "    # Replace the ith column of train_Y with with that pandas series.\n",
    "    train_labels[:,i] =  series_train_protein_ids.isin(label_related_proteins).astype(int)\n",
    "    \n",
    "\n",
    "# Convert train_Y numpy into pandas dataframe\n",
    "labels_df = pd.DataFrame(data = train_labels, columns = labels)\n",
    "print(labels_df.shape)"
   ]
  },
  {
   "cell_type": "code",
   "execution_count": 12,
   "id": "1b05b42e",
   "metadata": {
    "execution": {
     "iopub.execute_input": "2024-05-22T01:25:12.340441Z",
     "iopub.status.busy": "2024-05-22T01:25:12.339957Z",
     "iopub.status.idle": "2024-05-22T01:25:12.370424Z",
     "shell.execute_reply": "2024-05-22T01:25:12.369510Z"
    },
    "papermill": {
     "duration": 0.044646,
     "end_time": "2024-05-22T01:25:12.372737",
     "exception": false,
     "start_time": "2024-05-22T01:25:12.328091",
     "status": "completed"
    },
    "tags": []
   },
   "outputs": [
    {
     "data": {
      "text/html": [
       "<div>\n",
       "<style scoped>\n",
       "    .dataframe tbody tr th:only-of-type {\n",
       "        vertical-align: middle;\n",
       "    }\n",
       "\n",
       "    .dataframe tbody tr th {\n",
       "        vertical-align: top;\n",
       "    }\n",
       "\n",
       "    .dataframe thead th {\n",
       "        text-align: right;\n",
       "    }\n",
       "</style>\n",
       "<table border=\"1\" class=\"dataframe\">\n",
       "  <thead>\n",
       "    <tr style=\"text-align: right;\">\n",
       "      <th></th>\n",
       "      <th>GO:0005575</th>\n",
       "      <th>GO:0008150</th>\n",
       "      <th>GO:0110165</th>\n",
       "      <th>GO:0003674</th>\n",
       "      <th>GO:0005622</th>\n",
       "      <th>GO:0009987</th>\n",
       "      <th>GO:0043226</th>\n",
       "      <th>GO:0043229</th>\n",
       "      <th>GO:0005488</th>\n",
       "      <th>GO:0043227</th>\n",
       "      <th>...</th>\n",
       "      <th>GO:0034250</th>\n",
       "      <th>GO:0140053</th>\n",
       "      <th>GO:0031345</th>\n",
       "      <th>GO:0098802</th>\n",
       "      <th>GO:0045861</th>\n",
       "      <th>GO:0051783</th>\n",
       "      <th>GO:0031674</th>\n",
       "      <th>GO:0001818</th>\n",
       "      <th>GO:0006874</th>\n",
       "      <th>GO:0016887</th>\n",
       "    </tr>\n",
       "  </thead>\n",
       "  <tbody>\n",
       "    <tr>\n",
       "      <th>0</th>\n",
       "      <td>0.0</td>\n",
       "      <td>1.0</td>\n",
       "      <td>0.0</td>\n",
       "      <td>1.0</td>\n",
       "      <td>0.0</td>\n",
       "      <td>1.0</td>\n",
       "      <td>0.0</td>\n",
       "      <td>0.0</td>\n",
       "      <td>1.0</td>\n",
       "      <td>0.0</td>\n",
       "      <td>...</td>\n",
       "      <td>0.0</td>\n",
       "      <td>0.0</td>\n",
       "      <td>0.0</td>\n",
       "      <td>0.0</td>\n",
       "      <td>0.0</td>\n",
       "      <td>0.0</td>\n",
       "      <td>0.0</td>\n",
       "      <td>0.0</td>\n",
       "      <td>0.0</td>\n",
       "      <td>0.0</td>\n",
       "    </tr>\n",
       "    <tr>\n",
       "      <th>1</th>\n",
       "      <td>1.0</td>\n",
       "      <td>1.0</td>\n",
       "      <td>1.0</td>\n",
       "      <td>1.0</td>\n",
       "      <td>0.0</td>\n",
       "      <td>1.0</td>\n",
       "      <td>0.0</td>\n",
       "      <td>0.0</td>\n",
       "      <td>1.0</td>\n",
       "      <td>0.0</td>\n",
       "      <td>...</td>\n",
       "      <td>0.0</td>\n",
       "      <td>0.0</td>\n",
       "      <td>0.0</td>\n",
       "      <td>0.0</td>\n",
       "      <td>0.0</td>\n",
       "      <td>0.0</td>\n",
       "      <td>0.0</td>\n",
       "      <td>0.0</td>\n",
       "      <td>0.0</td>\n",
       "      <td>0.0</td>\n",
       "    </tr>\n",
       "    <tr>\n",
       "      <th>2</th>\n",
       "      <td>1.0</td>\n",
       "      <td>1.0</td>\n",
       "      <td>1.0</td>\n",
       "      <td>1.0</td>\n",
       "      <td>1.0</td>\n",
       "      <td>0.0</td>\n",
       "      <td>1.0</td>\n",
       "      <td>1.0</td>\n",
       "      <td>1.0</td>\n",
       "      <td>1.0</td>\n",
       "      <td>...</td>\n",
       "      <td>0.0</td>\n",
       "      <td>0.0</td>\n",
       "      <td>0.0</td>\n",
       "      <td>0.0</td>\n",
       "      <td>0.0</td>\n",
       "      <td>0.0</td>\n",
       "      <td>0.0</td>\n",
       "      <td>0.0</td>\n",
       "      <td>0.0</td>\n",
       "      <td>0.0</td>\n",
       "    </tr>\n",
       "    <tr>\n",
       "      <th>3</th>\n",
       "      <td>1.0</td>\n",
       "      <td>1.0</td>\n",
       "      <td>1.0</td>\n",
       "      <td>1.0</td>\n",
       "      <td>0.0</td>\n",
       "      <td>1.0</td>\n",
       "      <td>1.0</td>\n",
       "      <td>0.0</td>\n",
       "      <td>0.0</td>\n",
       "      <td>1.0</td>\n",
       "      <td>...</td>\n",
       "      <td>0.0</td>\n",
       "      <td>0.0</td>\n",
       "      <td>0.0</td>\n",
       "      <td>0.0</td>\n",
       "      <td>0.0</td>\n",
       "      <td>0.0</td>\n",
       "      <td>0.0</td>\n",
       "      <td>0.0</td>\n",
       "      <td>0.0</td>\n",
       "      <td>0.0</td>\n",
       "    </tr>\n",
       "    <tr>\n",
       "      <th>4</th>\n",
       "      <td>1.0</td>\n",
       "      <td>0.0</td>\n",
       "      <td>1.0</td>\n",
       "      <td>1.0</td>\n",
       "      <td>1.0</td>\n",
       "      <td>0.0</td>\n",
       "      <td>1.0</td>\n",
       "      <td>1.0</td>\n",
       "      <td>1.0</td>\n",
       "      <td>1.0</td>\n",
       "      <td>...</td>\n",
       "      <td>0.0</td>\n",
       "      <td>0.0</td>\n",
       "      <td>0.0</td>\n",
       "      <td>0.0</td>\n",
       "      <td>0.0</td>\n",
       "      <td>0.0</td>\n",
       "      <td>0.0</td>\n",
       "      <td>0.0</td>\n",
       "      <td>0.0</td>\n",
       "      <td>0.0</td>\n",
       "    </tr>\n",
       "  </tbody>\n",
       "</table>\n",
       "<p>5 rows × 1500 columns</p>\n",
       "</div>"
      ],
      "text/plain": [
       "   GO:0005575  GO:0008150  GO:0110165  GO:0003674  GO:0005622  GO:0009987  \\\n",
       "0         0.0         1.0         0.0         1.0         0.0         1.0   \n",
       "1         1.0         1.0         1.0         1.0         0.0         1.0   \n",
       "2         1.0         1.0         1.0         1.0         1.0         0.0   \n",
       "3         1.0         1.0         1.0         1.0         0.0         1.0   \n",
       "4         1.0         0.0         1.0         1.0         1.0         0.0   \n",
       "\n",
       "   GO:0043226  GO:0043229  GO:0005488  GO:0043227  ...  GO:0034250  \\\n",
       "0         0.0         0.0         1.0         0.0  ...         0.0   \n",
       "1         0.0         0.0         1.0         0.0  ...         0.0   \n",
       "2         1.0         1.0         1.0         1.0  ...         0.0   \n",
       "3         1.0         0.0         0.0         1.0  ...         0.0   \n",
       "4         1.0         1.0         1.0         1.0  ...         0.0   \n",
       "\n",
       "   GO:0140053  GO:0031345  GO:0098802  GO:0045861  GO:0051783  GO:0031674  \\\n",
       "0         0.0         0.0         0.0         0.0         0.0         0.0   \n",
       "1         0.0         0.0         0.0         0.0         0.0         0.0   \n",
       "2         0.0         0.0         0.0         0.0         0.0         0.0   \n",
       "3         0.0         0.0         0.0         0.0         0.0         0.0   \n",
       "4         0.0         0.0         0.0         0.0         0.0         0.0   \n",
       "\n",
       "   GO:0001818  GO:0006874  GO:0016887  \n",
       "0         0.0         0.0         0.0  \n",
       "1         0.0         0.0         0.0  \n",
       "2         0.0         0.0         0.0  \n",
       "3         0.0         0.0         0.0  \n",
       "4         0.0         0.0         0.0  \n",
       "\n",
       "[5 rows x 1500 columns]"
      ]
     },
     "execution_count": 12,
     "metadata": {},
     "output_type": "execute_result"
    }
   ],
   "source": [
    "labels_df.head()"
   ]
  },
  {
   "cell_type": "markdown",
   "id": "58d12a56",
   "metadata": {
    "papermill": {
     "duration": 0.00978,
     "end_time": "2024-05-22T01:25:12.392439",
     "exception": false,
     "start_time": "2024-05-22T01:25:12.382659",
     "status": "completed"
    },
    "tags": []
   },
   "source": [
    "# Training and Testing with Neural Networks"
   ]
  },
  {
   "cell_type": "code",
   "execution_count": 13,
   "id": "9556e584",
   "metadata": {
    "execution": {
     "iopub.execute_input": "2024-05-22T01:25:12.415148Z",
     "iopub.status.busy": "2024-05-22T01:25:12.414454Z",
     "iopub.status.idle": "2024-05-22T01:27:57.409574Z",
     "shell.execute_reply": "2024-05-22T01:27:57.407601Z"
    },
    "papermill": {
     "duration": 165.010886,
     "end_time": "2024-05-22T01:27:57.413397",
     "exception": false,
     "start_time": "2024-05-22T01:25:12.402511",
     "status": "completed"
    },
    "tags": []
   },
   "outputs": [
    {
     "name": "stderr",
     "output_type": "stream",
     "text": [
      "2024-05-22 01:25:14.517280: E external/local_xla/xla/stream_executor/cuda/cuda_dnn.cc:9261] Unable to register cuDNN factory: Attempting to register factory for plugin cuDNN when one has already been registered\n",
      "2024-05-22 01:25:14.517526: E external/local_xla/xla/stream_executor/cuda/cuda_fft.cc:607] Unable to register cuFFT factory: Attempting to register factory for plugin cuFFT when one has already been registered\n",
      "2024-05-22 01:25:14.678617: E external/local_xla/xla/stream_executor/cuda/cuda_blas.cc:1515] Unable to register cuBLAS factory: Attempting to register factory for plugin cuBLAS when one has already been registered\n",
      "/opt/conda/lib/python3.10/site-packages/keras/src/layers/normalization/batch_normalization.py:143: UserWarning: Do not pass an `input_shape`/`input_dim` argument to a layer. When using Sequential models, prefer using an `Input(shape)` object as the first layer in the model instead.\n",
      "  super().__init__(**kwargs)\n"
     ]
    },
    {
     "name": "stdout",
     "output_type": "stream",
     "text": [
      "Epoch 1/5\n",
      "\u001b[1m28/28\u001b[0m \u001b[32m━━━━━━━━━━━━━━━━━━━━\u001b[0m\u001b[37m\u001b[0m \u001b[1m38s\u001b[0m 1s/step - auc: 0.6131 - binary_accuracy: 0.8689 - loss: 0.3316\n",
      "Epoch 2/5\n",
      "\u001b[1m28/28\u001b[0m \u001b[32m━━━━━━━━━━━━━━━━━━━━\u001b[0m\u001b[37m\u001b[0m \u001b[1m23s\u001b[0m 806ms/step - auc: 0.8232 - binary_accuracy: 0.9800 - loss: 0.0801\n",
      "Epoch 3/5\n",
      "\u001b[1m28/28\u001b[0m \u001b[32m━━━━━━━━━━━━━━━━━━━━\u001b[0m\u001b[37m\u001b[0m \u001b[1m23s\u001b[0m 814ms/step - auc: 0.8563 - binary_accuracy: 0.9802 - loss: 0.0746\n",
      "Epoch 4/5\n",
      "\u001b[1m28/28\u001b[0m \u001b[32m━━━━━━━━━━━━━━━━━━━━\u001b[0m\u001b[37m\u001b[0m \u001b[1m23s\u001b[0m 819ms/step - auc: 0.8820 - binary_accuracy: 0.9805 - loss: 0.0703\n",
      "Epoch 5/5\n",
      "\u001b[1m28/28\u001b[0m \u001b[32m━━━━━━━━━━━━━━━━━━━━\u001b[0m\u001b[37m\u001b[0m \u001b[1m41s\u001b[0m 809ms/step - auc: 0.9013 - binary_accuracy: 0.9807 - loss: 0.0669\n"
     ]
    }
   ],
   "source": [
    "import tensorflow as tf\n",
    "\n",
    "INPUT_SHAPE = [train_embedding_df.shape[1]]\n",
    "BATCH_SIZE = 5120\n",
    "\n",
    "model = tf.keras.Sequential([\n",
    "    tf.keras.layers.BatchNormalization(input_shape=INPUT_SHAPE),    \n",
    "    tf.keras.layers.Dense(units=512, activation='relu'),\n",
    "    tf.keras.layers.Dense(units=512, activation='relu'),\n",
    "    tf.keras.layers.Dense(units=512, activation='relu'),\n",
    "    tf.keras.layers.Dense(units=num_of_labels,activation='sigmoid')\n",
    "])\n",
    "\n",
    "\n",
    "# Compile model\n",
    "model.compile(\n",
    "    optimizer=tf.keras.optimizers.Adam(learning_rate=0.001),\n",
    "    loss='binary_crossentropy',\n",
    "    metrics=['binary_accuracy', tf.keras.metrics.AUC()],\n",
    ")\n",
    "\n",
    "history = model.fit(\n",
    "    train_embedding_df, labels_df,\n",
    "    batch_size=BATCH_SIZE,\n",
    "    epochs=5\n",
    ")"
   ]
  },
  {
   "cell_type": "markdown",
   "id": "07c48fa0",
   "metadata": {
    "papermill": {
     "duration": 0.019333,
     "end_time": "2024-05-22T01:27:57.452935",
     "exception": false,
     "start_time": "2024-05-22T01:27:57.433602",
     "status": "completed"
    },
    "tags": []
   },
   "source": [
    "# Plot the model's loss and accuracy for each epoch"
   ]
  },
  {
   "cell_type": "code",
   "execution_count": 14,
   "id": "a016e85a",
   "metadata": {
    "execution": {
     "iopub.execute_input": "2024-05-22T01:27:57.496084Z",
     "iopub.status.busy": "2024-05-22T01:27:57.494179Z",
     "iopub.status.idle": "2024-05-22T01:27:58.194967Z",
     "shell.execute_reply": "2024-05-22T01:27:58.193547Z"
    },
    "papermill": {
     "duration": 0.725625,
     "end_time": "2024-05-22T01:27:58.197756",
     "exception": false,
     "start_time": "2024-05-22T01:27:57.472131",
     "status": "completed"
    },
    "tags": []
   },
   "outputs": [
    {
     "data": {
      "text/plain": [
       "<Axes: title={'center': 'Accuracy'}>"
      ]
     },
     "execution_count": 14,
     "metadata": {},
     "output_type": "execute_result"
    },
    {
     "data": {
      "image/png": "[encoded data removed]",
      "text/plain": [
       "<Figure size 640x480 with 1 Axes>"
      ]
     },
     "metadata": {},
     "output_type": "display_data"
    },
    {
     "data": {
      "image/png": "[encoded data removed]",
      "text/plain": [
       "<Figure size 640x480 with 1 Axes>"
      ]
     },
     "metadata": {},
     "output_type": "display_data"
    }
   ],
   "source": [
    "history_df = pd.DataFrame(history.history)\n",
    "history_df.loc[:, ['loss']].plot(title=\"Cross-entropy\")\n",
    "history_df.loc[:, ['binary_accuracy']].plot(title=\"Accuracy\")"
   ]
  },
  {
   "cell_type": "markdown",
   "id": "721e5372",
   "metadata": {
    "papermill": {
     "duration": 0.0203,
     "end_time": "2024-05-22T01:27:58.239445",
     "exception": false,
     "start_time": "2024-05-22T01:27:58.219145",
     "status": "completed"
    },
    "tags": []
   },
   "source": [
    "# Submission"
   ]
  },
  {
   "cell_type": "code",
   "execution_count": 15,
   "id": "f393c59b",
   "metadata": {
    "execution": {
     "iopub.execute_input": "2024-05-22T01:27:58.282286Z",
     "iopub.status.busy": "2024-05-22T01:27:58.281823Z",
     "iopub.status.idle": "2024-05-22T01:28:08.508926Z",
     "shell.execute_reply": "2024-05-22T01:28:08.507584Z"
    },
    "papermill": {
     "duration": 10.252336,
     "end_time": "2024-05-22T01:28:08.512132",
     "exception": false,
     "start_time": "2024-05-22T01:27:58.259796",
     "status": "completed"
    },
    "tags": []
   },
   "outputs": [
    {
     "name": "stdout",
     "output_type": "stream",
     "text": [
      "(141865, 1024)\n"
     ]
    }
   ],
   "source": [
    "test_embeddings = np.load('/kaggle/input/t5embeds/test_embeds.npy')\n",
    "\n",
    "# Convert test_embeddings to dataframe\n",
    "column_num = test_embeddings.shape[1]\n",
    "test_df = pd.DataFrame(test_embeddings, columns = [\"Column_\" + str(i) for i in range(1, column_num+1)])\n",
    "print(test_df.shape)"
   ]
  },
  {
   "cell_type": "code",
   "execution_count": 16,
   "id": "8e256382",
   "metadata": {
    "execution": {
     "iopub.execute_input": "2024-05-22T01:28:08.586812Z",
     "iopub.status.busy": "2024-05-22T01:28:08.585554Z",
     "iopub.status.idle": "2024-05-22T01:28:51.009261Z",
     "shell.execute_reply": "2024-05-22T01:28:51.007578Z"
    },
    "papermill": {
     "duration": 42.466477,
     "end_time": "2024-05-22T01:28:51.012517",
     "exception": false,
     "start_time": "2024-05-22T01:28:08.546040",
     "status": "completed"
    },
    "tags": []
   },
   "outputs": [
    {
     "name": "stdout",
     "output_type": "stream",
     "text": [
      "\u001b[1m4434/4434\u001b[0m \u001b[32m━━━━━━━━━━━━━━━━━━━━\u001b[0m\u001b[37m\u001b[0m \u001b[1m21s\u001b[0m 5ms/step\n"
     ]
    }
   ],
   "source": [
    "predictions =  model.predict(test_df)\n",
    "# This will take 15-20 minutes"
   ]
  },
  {
   "cell_type": "code",
   "execution_count": 17,
   "id": "16ae7f91",
   "metadata": {
    "execution": {
     "iopub.execute_input": "2024-05-22T01:28:51.123861Z",
     "iopub.status.busy": "2024-05-22T01:28:51.122633Z",
     "iopub.status.idle": "2024-05-22T01:37:09.138317Z",
     "shell.execute_reply": "2024-05-22T01:37:09.136793Z"
    },
    "papermill": {
     "duration": 498.072601,
     "end_time": "2024-05-22T01:37:09.142374",
     "exception": false,
     "start_time": "2024-05-22T01:28:51.069773",
     "status": "completed"
    },
    "tags": []
   },
   "outputs": [],
   "source": [
    "# Reference: https://www.kaggle.com/code/alexandervc/baseline-multilabel-to-multitarget-binary\n",
    "\n",
    "df_submission = pd.DataFrame(columns = ['Protein Id', 'GO Term Id','Prediction'])\n",
    "test_protein_ids = np.load('/kaggle/input/t5embeds/test_ids.npy')\n",
    "l = []\n",
    "for k in list(test_protein_ids):\n",
    "    l += [ k] * predictions.shape[1]   \n",
    "\n",
    "df_submission['Protein Id'] = l\n",
    "df_submission['GO Term Id'] = labels * predictions.shape[0]\n",
    "df_submission['Prediction'] = predictions.ravel()\n",
    "df_submission.to_csv(\"submission.tsv\",header=False, index=False, sep=\"\\t\")"
   ]
  },
  {
   "cell_type": "markdown",
   "id": "b2096183",
   "metadata": {
    "papermill": {
     "duration": 0.047642,
     "end_time": "2024-05-22T01:37:09.358850",
     "exception": false,
     "start_time": "2024-05-22T01:37:09.311208",
     "status": "completed"
    },
    "tags": []
   },
   "source": [
    "## Training and Testing with Logistic Regression - Multilabel"
   ]
  },
  {
   "cell_type": "code",
   "execution_count": null,
   "id": "6ae16d49",
   "metadata": {
    "papermill": {
     "duration": 0.045446,
     "end_time": "2024-05-22T01:37:09.450971",
     "exception": false,
     "start_time": "2024-05-22T01:37:09.405525",
     "status": "completed"
    },
    "tags": []
   },
   "outputs": [],
   "source": []
  }
 ],
 "metadata": {
  "kaggle": {
   "accelerator": "none",
   "dataSources": [
    {
     "databundleVersionId": 5521661,
     "sourceId": 41875,
     "sourceType": "competition"
    },
    {
     "datasetId": 3167603,
     "sourceId": 5499219,
     "sourceType": "datasetVersion"
    }
   ],
   "dockerImageVersionId": 30699,
   "isGpuEnabled": false,
   "isInternetEnabled": true,
   "language": "python",
   "sourceType": "notebook"
  },
  "kernelspec": {
   "display_name": "Python 3",
   "language": "python",
   "name": "python3"
  },
  "language_info": {
   "codemirror_mode": {
    "name": "ipython",
    "version": 3
   },
   "file_extension": ".py",
   "mimetype": "text/x-python",
   "name": "python",
   "nbconvert_exporter": "python",
   "pygments_lexer": "ipython3",
   "version": "3.10.13"
  },
  "papermill": {
   "default_parameters": {},
   "duration": 1312.336013,
   "end_time": "2024-05-22T01:37:12.724616",
   "environment_variables": {},
   "exception": null,
   "input_path": "__notebook__.ipynb",
   "output_path": "__notebook__.ipynb",
   "parameters": {},
   "start_time": "2024-05-22T01:15:20.388603",
   "version": "2.5.0"
  }
 },
 "nbformat": 4,
 "nbformat_minor": 5
}
